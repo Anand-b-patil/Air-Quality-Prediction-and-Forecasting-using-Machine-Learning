{
 "cells": [
  {
   "cell_type": "code",
   "execution_count": null,
   "id": "48c1fe01",
   "metadata": {},
   "outputs": [],
   "source": [
    "import pandas as pd\n",
    "\n",
    "df = pd.read_csv(\"data/raw/city_day.csv\", parse_dates=[\"Date\"])\n",
    "\n",
    "# Keep only necessary columns\n",
    "df = df[[\"Date\", \"AQI\"]].dropna()\n",
    "\n",
    "# Sort by date\n",
    "df = df.sort_values(\"Date\")\n",
    "\n",
    "# Create lag features\n",
    "for lag in range(1, 8):   # past 7 days\n",
    "    df[f\"lag_{lag}\"] = df[\"AQI\"].shift(lag)\n",
    "\n",
    "# Drop NA (from lags)\n",
    "df = df.dropna()\n",
    "\n",
    "# Features & target\n",
    "X = df.drop(columns=[\"Date\", \"AQI\"])\n",
    "y = df[\"AQI\"]\n"
   ]
  },
  {
   "cell_type": "code",
   "execution_count": 3,
   "id": "adcd44cb",
   "metadata": {},
   "outputs": [
    {
     "data": {
      "text/html": [
       "<div>\n",
       "<style scoped>\n",
       "    .dataframe tbody tr th:only-of-type {\n",
       "        vertical-align: middle;\n",
       "    }\n",
       "\n",
       "    .dataframe tbody tr th {\n",
       "        vertical-align: top;\n",
       "    }\n",
       "\n",
       "    .dataframe thead th {\n",
       "        text-align: right;\n",
       "    }\n",
       "</style>\n",
       "<table border=\"1\" class=\"dataframe\">\n",
       "  <thead>\n",
       "    <tr style=\"text-align: right;\">\n",
       "      <th></th>\n",
       "      <th>Date</th>\n",
       "      <th>AQI</th>\n",
       "      <th>lag_1</th>\n",
       "      <th>lag_2</th>\n",
       "      <th>lag_3</th>\n",
       "      <th>lag_4</th>\n",
       "      <th>lag_5</th>\n",
       "      <th>lag_6</th>\n",
       "      <th>lag_7</th>\n",
       "    </tr>\n",
       "  </thead>\n",
       "  <tbody>\n",
       "    <tr>\n",
       "      <th>10236</th>\n",
       "      <td>2015-01-08</td>\n",
       "      <td>383.0</td>\n",
       "      <td>353.0</td>\n",
       "      <td>318.0</td>\n",
       "      <td>325.0</td>\n",
       "      <td>319.0</td>\n",
       "      <td>143.0</td>\n",
       "      <td>454.0</td>\n",
       "      <td>472.0</td>\n",
       "    </tr>\n",
       "    <tr>\n",
       "      <th>10237</th>\n",
       "      <td>2015-01-09</td>\n",
       "      <td>375.0</td>\n",
       "      <td>383.0</td>\n",
       "      <td>353.0</td>\n",
       "      <td>318.0</td>\n",
       "      <td>325.0</td>\n",
       "      <td>319.0</td>\n",
       "      <td>143.0</td>\n",
       "      <td>454.0</td>\n",
       "    </tr>\n",
       "    <tr>\n",
       "      <th>10238</th>\n",
       "      <td>2015-01-10</td>\n",
       "      <td>376.0</td>\n",
       "      <td>375.0</td>\n",
       "      <td>383.0</td>\n",
       "      <td>353.0</td>\n",
       "      <td>318.0</td>\n",
       "      <td>325.0</td>\n",
       "      <td>319.0</td>\n",
       "      <td>143.0</td>\n",
       "    </tr>\n",
       "    <tr>\n",
       "      <th>10239</th>\n",
       "      <td>2015-01-11</td>\n",
       "      <td>379.0</td>\n",
       "      <td>376.0</td>\n",
       "      <td>375.0</td>\n",
       "      <td>383.0</td>\n",
       "      <td>353.0</td>\n",
       "      <td>318.0</td>\n",
       "      <td>325.0</td>\n",
       "      <td>319.0</td>\n",
       "    </tr>\n",
       "    <tr>\n",
       "      <th>10240</th>\n",
       "      <td>2015-01-12</td>\n",
       "      <td>375.0</td>\n",
       "      <td>379.0</td>\n",
       "      <td>376.0</td>\n",
       "      <td>375.0</td>\n",
       "      <td>383.0</td>\n",
       "      <td>353.0</td>\n",
       "      <td>318.0</td>\n",
       "      <td>325.0</td>\n",
       "    </tr>\n",
       "  </tbody>\n",
       "</table>\n",
       "</div>"
      ],
      "text/plain": [
       "            Date    AQI  lag_1  lag_2  lag_3  lag_4  lag_5  lag_6  lag_7\n",
       "10236 2015-01-08  383.0  353.0  318.0  325.0  319.0  143.0  454.0  472.0\n",
       "10237 2015-01-09  375.0  383.0  353.0  318.0  325.0  319.0  143.0  454.0\n",
       "10238 2015-01-10  376.0  375.0  383.0  353.0  318.0  325.0  319.0  143.0\n",
       "10239 2015-01-11  379.0  376.0  375.0  383.0  353.0  318.0  325.0  319.0\n",
       "10240 2015-01-12  375.0  379.0  376.0  375.0  383.0  353.0  318.0  325.0"
      ]
     },
     "execution_count": 3,
     "metadata": {},
     "output_type": "execute_result"
    }
   ],
   "source": [
    "df.head()"
   ]
  },
  {
   "cell_type": "code",
   "execution_count": 4,
   "id": "8afa11fc",
   "metadata": {},
   "outputs": [],
   "source": [
    "from sklearn.model_selection import train_test_split\n",
    "X_train, X_test, y_train, y_test = train_test_split(X, y, test_size=0.2, shuffle=False)"
   ]
  },
  {
   "cell_type": "code",
   "execution_count": 5,
   "id": "45b62f70",
   "metadata": {},
   "outputs": [
    {
     "data": {
      "text/plain": [
       "((19874, 7), (4969, 7), (19874,), (4969,))"
      ]
     },
     "execution_count": 5,
     "metadata": {},
     "output_type": "execute_result"
    }
   ],
   "source": [
    "X_train.shape, X_test.shape, y_train.shape, y_test.shape"
   ]
  },
  {
   "cell_type": "code",
   "execution_count": 6,
   "id": "89a4d052",
   "metadata": {},
   "outputs": [
    {
     "data": {
      "text/html": [
       "<div>\n",
       "<style scoped>\n",
       "    .dataframe tbody tr th:only-of-type {\n",
       "        vertical-align: middle;\n",
       "    }\n",
       "\n",
       "    .dataframe tbody tr th {\n",
       "        vertical-align: top;\n",
       "    }\n",
       "\n",
       "    .dataframe thead th {\n",
       "        text-align: right;\n",
       "    }\n",
       "</style>\n",
       "<table border=\"1\" class=\"dataframe\">\n",
       "  <thead>\n",
       "    <tr style=\"text-align: right;\">\n",
       "      <th></th>\n",
       "      <th>lag_1</th>\n",
       "      <th>lag_2</th>\n",
       "      <th>lag_3</th>\n",
       "      <th>lag_4</th>\n",
       "      <th>lag_5</th>\n",
       "      <th>lag_6</th>\n",
       "      <th>lag_7</th>\n",
       "    </tr>\n",
       "  </thead>\n",
       "  <tbody>\n",
       "    <tr>\n",
       "      <th>10236</th>\n",
       "      <td>353.0</td>\n",
       "      <td>318.0</td>\n",
       "      <td>325.0</td>\n",
       "      <td>319.0</td>\n",
       "      <td>143.0</td>\n",
       "      <td>454.0</td>\n",
       "      <td>472.0</td>\n",
       "    </tr>\n",
       "    <tr>\n",
       "      <th>10237</th>\n",
       "      <td>383.0</td>\n",
       "      <td>353.0</td>\n",
       "      <td>318.0</td>\n",
       "      <td>325.0</td>\n",
       "      <td>319.0</td>\n",
       "      <td>143.0</td>\n",
       "      <td>454.0</td>\n",
       "    </tr>\n",
       "    <tr>\n",
       "      <th>10238</th>\n",
       "      <td>375.0</td>\n",
       "      <td>383.0</td>\n",
       "      <td>353.0</td>\n",
       "      <td>318.0</td>\n",
       "      <td>325.0</td>\n",
       "      <td>319.0</td>\n",
       "      <td>143.0</td>\n",
       "    </tr>\n",
       "    <tr>\n",
       "      <th>10239</th>\n",
       "      <td>376.0</td>\n",
       "      <td>375.0</td>\n",
       "      <td>383.0</td>\n",
       "      <td>353.0</td>\n",
       "      <td>318.0</td>\n",
       "      <td>325.0</td>\n",
       "      <td>319.0</td>\n",
       "    </tr>\n",
       "    <tr>\n",
       "      <th>10240</th>\n",
       "      <td>379.0</td>\n",
       "      <td>376.0</td>\n",
       "      <td>375.0</td>\n",
       "      <td>383.0</td>\n",
       "      <td>353.0</td>\n",
       "      <td>318.0</td>\n",
       "      <td>325.0</td>\n",
       "    </tr>\n",
       "    <tr>\n",
       "      <th>...</th>\n",
       "      <td>...</td>\n",
       "      <td>...</td>\n",
       "      <td>...</td>\n",
       "      <td>...</td>\n",
       "      <td>...</td>\n",
       "      <td>...</td>\n",
       "      <td>...</td>\n",
       "    </tr>\n",
       "    <tr>\n",
       "      <th>2864</th>\n",
       "      <td>344.0</td>\n",
       "      <td>129.0</td>\n",
       "      <td>180.0</td>\n",
       "      <td>362.0</td>\n",
       "      <td>238.0</td>\n",
       "      <td>209.0</td>\n",
       "      <td>423.0</td>\n",
       "    </tr>\n",
       "    <tr>\n",
       "      <th>14372</th>\n",
       "      <td>185.0</td>\n",
       "      <td>344.0</td>\n",
       "      <td>129.0</td>\n",
       "      <td>180.0</td>\n",
       "      <td>362.0</td>\n",
       "      <td>238.0</td>\n",
       "      <td>209.0</td>\n",
       "    </tr>\n",
       "    <tr>\n",
       "      <th>19637</th>\n",
       "      <td>170.0</td>\n",
       "      <td>185.0</td>\n",
       "      <td>344.0</td>\n",
       "      <td>129.0</td>\n",
       "      <td>180.0</td>\n",
       "      <td>362.0</td>\n",
       "      <td>238.0</td>\n",
       "    </tr>\n",
       "    <tr>\n",
       "      <th>7321</th>\n",
       "      <td>183.0</td>\n",
       "      <td>170.0</td>\n",
       "      <td>185.0</td>\n",
       "      <td>344.0</td>\n",
       "      <td>129.0</td>\n",
       "      <td>180.0</td>\n",
       "      <td>362.0</td>\n",
       "    </tr>\n",
       "    <tr>\n",
       "      <th>9634</th>\n",
       "      <td>120.0</td>\n",
       "      <td>183.0</td>\n",
       "      <td>170.0</td>\n",
       "      <td>185.0</td>\n",
       "      <td>344.0</td>\n",
       "      <td>129.0</td>\n",
       "      <td>180.0</td>\n",
       "    </tr>\n",
       "  </tbody>\n",
       "</table>\n",
       "<p>19874 rows × 7 columns</p>\n",
       "</div>"
      ],
      "text/plain": [
       "       lag_1  lag_2  lag_3  lag_4  lag_5  lag_6  lag_7\n",
       "10236  353.0  318.0  325.0  319.0  143.0  454.0  472.0\n",
       "10237  383.0  353.0  318.0  325.0  319.0  143.0  454.0\n",
       "10238  375.0  383.0  353.0  318.0  325.0  319.0  143.0\n",
       "10239  376.0  375.0  383.0  353.0  318.0  325.0  319.0\n",
       "10240  379.0  376.0  375.0  383.0  353.0  318.0  325.0\n",
       "...      ...    ...    ...    ...    ...    ...    ...\n",
       "2864   344.0  129.0  180.0  362.0  238.0  209.0  423.0\n",
       "14372  185.0  344.0  129.0  180.0  362.0  238.0  209.0\n",
       "19637  170.0  185.0  344.0  129.0  180.0  362.0  238.0\n",
       "7321   183.0  170.0  185.0  344.0  129.0  180.0  362.0\n",
       "9634   120.0  183.0  170.0  185.0  344.0  129.0  180.0\n",
       "\n",
       "[19874 rows x 7 columns]"
      ]
     },
     "execution_count": 6,
     "metadata": {},
     "output_type": "execute_result"
    }
   ],
   "source": [
    "X_train\n"
   ]
  },
  {
   "cell_type": "code",
   "execution_count": null,
   "id": "5c075104",
   "metadata": {},
   "outputs": [
    {
     "name": "stdout",
     "output_type": "stream",
     "text": [
      "R² Score: -0.01\n",
      "MAE: 67.14, RMSE: 90.25\n"
     ]
    }
   ],
   "source": [
    "from xgboost import XGBRegressor\n",
    "from sklearn.metrics import mean_absolute_error, mean_squared_error,r2_score\n",
    "import numpy as np\n",
    "\n",
    "# Train\n",
    "model = XGBRegressor(n_estimators=500, learning_rate=0.05, max_depth=5)\n",
    "model.fit(X_train, y_train)\n",
    "\n",
    "# Predict\n",
    "y_pred = model.predict(X_test)\n",
    "\n",
    "# Evaluate\n",
    "\n",
    "mae = mean_absolute_error(y_test, y_pred)\n",
    "rmse = np.sqrt(mean_squared_error(y_test, y_pred))\n",
    "print(f\"MAE: {mae:.2f}, RMSE: {rmse:.2f}\")\n"
   ]
  },
  {
   "cell_type": "code",
   "execution_count": 8,
   "id": "46d7b864",
   "metadata": {},
   "outputs": [
    {
     "name": "stderr",
     "output_type": "stream",
     "text": [
      "d:\\Air Quality Prediction and Forecasting using Machine Learning\\myenv\\Lib\\site-packages\\tqdm\\auto.py:21: TqdmWarning: IProgress not found. Please update jupyter and ipywidgets. See https://ipywidgets.readthedocs.io/en/stable/user_install.html\n",
      "  from .autonotebook import tqdm as notebook_tqdm\n"
     ]
    }
   ],
   "source": [
    "import optuna\n",
    "from sklearn.model_selection import cross_val_score, KFold\n"
   ]
  },
  {
   "cell_type": "code",
   "execution_count": 13,
   "id": "aca8ccc2",
   "metadata": {},
   "outputs": [
    {
     "name": "stderr",
     "output_type": "stream",
     "text": [
      "[I 2025-09-05 15:05:25,981] A new study created in memory with name: no-name-2aacff1e-a35d-43a5-aab0-1987ed13595e\n",
      "[I 2025-09-05 15:05:35,249] Trial 2 finished with value: 142.91347973147563 and parameters: {'n_estimators': 349, 'learning_rate': 0.0742863226426501, 'max_depth': 4, 'subsample': 0.9810608638997096, 'colsample_bytree': 0.983589480651408, 'gamma': 1.0226553857313436, 'min_child_weight': 6}. Best is trial 2 with value: 142.91347973147563.\n",
      "[I 2025-09-05 15:05:40,474] Trial 3 finished with value: 142.57909555237424 and parameters: {'n_estimators': 506, 'learning_rate': 0.04792110435929606, 'max_depth': 4, 'subsample': 0.9227031025789887, 'colsample_bytree': 0.7192502780200187, 'gamma': 3.2837719448121567, 'min_child_weight': 7}. Best is trial 3 with value: 142.57909555237424.\n",
      "[I 2025-09-05 15:06:17,358] Trial 5 finished with value: 148.9757356360469 and parameters: {'n_estimators': 567, 'learning_rate': 0.08311120704202002, 'max_depth': 9, 'subsample': 0.9007826844103579, 'colsample_bytree': 0.8834266552132848, 'gamma': 2.3461489134819984, 'min_child_weight': 4}. Best is trial 3 with value: 142.57909555237424.\n",
      "[I 2025-09-05 15:06:20,283] Trial 4 finished with value: 142.1625490874041 and parameters: {'n_estimators': 929, 'learning_rate': 0.013071328271443933, 'max_depth': 6, 'subsample': 0.9578970630220798, 'colsample_bytree': 0.7355857824402744, 'gamma': 2.509923847158071, 'min_child_weight': 1}. Best is trial 4 with value: 142.1625490874041.\n",
      "[I 2025-09-05 15:06:26,528] Trial 0 finished with value: 142.69623560721803 and parameters: {'n_estimators': 790, 'learning_rate': 0.013106907515495727, 'max_depth': 8, 'subsample': 0.6470164157359226, 'colsample_bytree': 0.5940744852096854, 'gamma': 3.2876542204524197, 'min_child_weight': 4}. Best is trial 4 with value: 142.1625490874041.\n",
      "[I 2025-09-05 15:06:26,876] Trial 6 finished with value: 146.270827079542 and parameters: {'n_estimators': 891, 'learning_rate': 0.038451131779996615, 'max_depth': 7, 'subsample': 0.778285558875462, 'colsample_bytree': 0.7693372276231369, 'gamma': 0.8330884157070145, 'min_child_weight': 4}. Best is trial 4 with value: 142.1625490874041.\n",
      "[I 2025-09-05 15:06:30,561] Trial 1 finished with value: 163.59822771790792 and parameters: {'n_estimators': 910, 'learning_rate': 0.2786472550942725, 'max_depth': 8, 'subsample': 0.6601415870018933, 'colsample_bytree': 0.5781530410103257, 'gamma': 4.744003487269159, 'min_child_weight': 6}. Best is trial 4 with value: 142.1625490874041.\n",
      "[I 2025-09-05 15:06:31,263] Trial 7 finished with value: 152.8974458865874 and parameters: {'n_estimators': 994, 'learning_rate': 0.2256228086556356, 'max_depth': 9, 'subsample': 0.8352199490277874, 'colsample_bytree': 0.527379089629411, 'gamma': 0.3105199301501582, 'min_child_weight': 1}. Best is trial 4 with value: 142.1625490874041.\n",
      "[I 2025-09-05 15:06:32,815] Trial 9 finished with value: 148.20313309090662 and parameters: {'n_estimators': 377, 'learning_rate': 0.09240404682678864, 'max_depth': 11, 'subsample': 0.6922292045023322, 'colsample_bytree': 0.8886261625585334, 'gamma': 4.195965065266477, 'min_child_weight': 1}. Best is trial 4 with value: 142.1625490874041.\n",
      "[I 2025-09-05 15:06:42,138] Trial 8 finished with value: 146.84920375505854 and parameters: {'n_estimators': 573, 'learning_rate': 0.03693881170846039, 'max_depth': 12, 'subsample': 0.6156173010075592, 'colsample_bytree': 0.8833428973893322, 'gamma': 3.6143998977652743, 'min_child_weight': 2}. Best is trial 4 with value: 142.1625490874041.\n"
     ]
    },
    {
     "name": "stdout",
     "output_type": "stream",
     "text": [
      " Best XGBoost params: {'n_estimators': 929, 'learning_rate': 0.013071328271443933, 'max_depth': 6, 'subsample': 0.9578970630220798, 'colsample_bytree': 0.7355857824402744, 'gamma': 2.509923847158071, 'min_child_weight': 1}\n",
      " Best XGBoost RMSE: 142.1625490874041\n",
      "\n",
      " Tuned XGBoost Performance:\n",
      "MAE: 66.06560930454364\n",
      "RMSE: 88.58696033729669\n"
     ]
    }
   ],
   "source": [
    "def objective_xgb(trial):\n",
    "    params = {\n",
    "        \"n_estimators\": trial.suggest_int(\"n_estimators\", 200, 1000),\n",
    "        \"learning_rate\": trial.suggest_float(\"learning_rate\", 0.01, 0.3, log=True),\n",
    "        \"max_depth\": trial.suggest_int(\"max_depth\", 3, 12),\n",
    "        \"subsample\": trial.suggest_float(\"subsample\", 0.5, 1.0),\n",
    "        \"colsample_bytree\": trial.suggest_float(\"colsample_bytree\", 0.5, 1.0),\n",
    "        \"gamma\": trial.suggest_float(\"gamma\", 0, 5),\n",
    "        \"min_child_weight\": trial.suggest_int(\"min_child_weight\", 1, 10)\n",
    "    }\n",
    "\n",
    "    model = XGBRegressor(**params, random_state=42, n_jobs=-1)\n",
    "    cv = KFold(n_splits=3, shuffle=True, random_state=42)\n",
    "    scores = cross_val_score(model, X_train, y_train, cv=cv, scoring=\"neg_root_mean_squared_error\")\n",
    "    return -scores.mean()\n",
    "\n",
    "study_xgb = optuna.create_study(direction=\"minimize\")\n",
    "study_xgb.optimize(objective_xgb, n_trials=10, n_jobs=-1)\n",
    "\n",
    "print(\" Best XGBoost params:\", study_xgb.best_params)\n",
    "print(\" Best XGBoost RMSE:\", study_xgb.best_value)\n",
    "\n",
    "best_xgb = XGBRegressor(**study_xgb.best_params, random_state=42, n_jobs=-1)\n",
    "best_xgb.fit(X_train, y_train)\n",
    "y_pred_best_xgb = best_xgb.predict(X_test)\n",
    "\n",
    "print(\"\\n Tuned XGBoost Performance:\")\n",
    "print(\"MAE:\", mean_absolute_error(y_test, y_pred_best_xgb))\n",
    "print(\"RMSE:\", np.sqrt(mean_squared_error(y_test, y_pred_best_xgb)))\n"
   ]
  },
  {
   "cell_type": "code",
   "execution_count": 16,
   "id": "b453b99f",
   "metadata": {},
   "outputs": [
    {
     "name": "stdout",
     "output_type": "stream",
     "text": [
      "MAE: 66.07, RMSE: 88.59\n"
     ]
    }
   ],
   "source": [
    "from xgboost import XGBRegressor\n",
    "from sklearn.metrics import mean_absolute_error, mean_squared_error,r2_score\n",
    "import numpy as np\n",
    "\n",
    "# Train\n",
    "model = XGBRegressor(\n",
    "    n_estimators=929,\n",
    "    learning_rate=0.013071328271443933,\n",
    "    max_depth=6,\n",
    "    subsample=0.9578970630220798,\n",
    "    colsample_bytree=0.7355857824402744,\n",
    "    gamma=2.509923847158071,\n",
    "    min_child_weight=1,\n",
    "    random_state=42\n",
    ")\n",
    "model.fit(X_train, y_train)\n",
    "\n",
    "# Predict\n",
    "y_pred = model.predict(X_test)\n",
    "\n",
    "# Evaluate\n",
    "\n",
    "mae = mean_absolute_error(y_test, y_pred)\n",
    "rmse = np.sqrt(mean_squared_error(y_test, y_pred))\n",
    "print(f\"MAE: {mae:.2f}, RMSE: {rmse:.2f}\")\n"
   ]
  },
  {
   "cell_type": "code",
   "execution_count": 17,
   "id": "6585de56",
   "metadata": {},
   "outputs": [
    {
     "name": "stdout",
     "output_type": "stream",
     "text": [
      "Next 7 days forecast: [np.float32(118.7058), np.float32(110.15237), np.float32(129.33633), np.float32(108.301605), np.float32(118.57194), np.float32(140.76495), np.float32(167.93121)]\n"
     ]
    }
   ],
   "source": [
    "def forecast_future(model, last_known, steps=7):\n",
    "    predictions = []\n",
    "    data = last_known.copy()\n",
    "\n",
    "    for _ in range(steps):\n",
    "        pred = model.predict(data.values.reshape(1, -1))[0]\n",
    "        predictions.append(pred)\n",
    "\n",
    "        # update lags\n",
    "        data = data.shift(1)\n",
    "        data.iloc[0] = pred\n",
    "\n",
    "    return predictions\n",
    "\n",
    "# Last known values (from test set)\n",
    "last_known = X_test.iloc[-1]\n",
    "future_preds = forecast_future(model, last_known, steps=7)\n",
    "\n",
    "print(\"Next 7 days forecast:\", future_preds)\n"
   ]
  },
  {
   "cell_type": "code",
   "execution_count": 18,
   "id": "bd73ada4",
   "metadata": {},
   "outputs": [
    {
     "name": "stdout",
     "output_type": "stream",
     "text": [
      "✅ Model saved at models/aqi_forecast_xgb.joblib\n"
     ]
    }
   ],
   "source": [
    "import joblib\n",
    "# Save model\n",
    "joblib.dump(model, \"models/aqi_forecast_xgb.joblib\")\n",
    "print(\"✅ Model saved at models/aqi_forecast_xgb.joblib\")"
   ]
  }
 ],
 "metadata": {
  "kernelspec": {
   "display_name": "myenv",
   "language": "python",
   "name": "python3"
  },
  "language_info": {
   "codemirror_mode": {
    "name": "ipython",
    "version": 3
   },
   "file_extension": ".py",
   "mimetype": "text/x-python",
   "name": "python",
   "nbconvert_exporter": "python",
   "pygments_lexer": "ipython3",
   "version": "3.12.7"
  }
 },
 "nbformat": 4,
 "nbformat_minor": 5
}
